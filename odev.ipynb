{
 "cells": [
  {
   "cell_type": "markdown",
   "id": "5ae6509d",
   "metadata": {},
   "source": [
    "# Assigment 3\n",
    "\n",
    "Tuğçe Kul"
   ]
  },
  {
   "cell_type": "markdown",
   "id": "a1cf5ef2",
   "metadata": {},
   "source": [
    "### Importing Required modules and libraries"
   ]
  },
  {
   "cell_type": "code",
   "execution_count": 30,
   "id": "a36e8509",
   "metadata": {},
   "outputs": [],
   "source": [
    "import pandas as pd\n",
    "import numpy as np\n",
    "from pulp import *"
   ]
  },
  {
   "cell_type": "markdown",
   "id": "5e4b0c3d",
   "metadata": {},
   "source": [
    "### Defining Required Parameters"
   ]
  },
  {
   "cell_type": "code",
   "execution_count": 31,
   "id": "045a0aae",
   "metadata": {},
   "outputs": [
    {
     "name": "stdout",
     "output_type": "stream",
     "text": [
      "        Beşiktaş       Davutpaşa      \n",
      "        T-shirts Jeans  T-shirts Jeans\n",
      "Cutting        9     1         1     2\n",
      "Sewing         2     9        10     9\n"
     ]
    }
   ],
   "source": [
    "# the seed number should be your student ID.\n",
    "# If it has letter, please ignore it and use only numbers in the ID\n",
    "np.random.seed(21069039)\n",
    "\n",
    "# Requirment of the production (proudction hour)\n",
    "RandomFtoD1 = np.round(np.random.uniform(low=1, high=10, size=4), 0).astype(int)\n",
    "RandomFtoD2 = np.reshape(RandomFtoD1, (2, 2))\n",
    "BesiktasHour = pd.DataFrame(\n",
    "    RandomFtoD2, columns=[\"T-shirts\", \"Jeans\"], index=[\"Cutting\", \"Sewing\"]\n",
    ")\n",
    "BesiktasHour.columns = pd.MultiIndex.from_product([[\"Beşiktaş\"], BesiktasHour.columns])\n",
    "\n",
    "# Shipment cost from distribution center to store\n",
    "RandomDtoS1 = np.round(np.random.uniform(low=1, high=10, size=4), 0).astype(int)\n",
    "RandomDtoS2 = np.reshape(RandomDtoS1, (2, 2))\n",
    "DavutpasaHour = pd.DataFrame(\n",
    "    RandomDtoS2, columns=[\"T-shirts\", \"Jeans\"], index=[\"Cutting\", \"Sewing\"]\n",
    ")\n",
    "DavutpasaHour.columns = pd.MultiIndex.from_product(\n",
    "    [[\"Davutpaşa\"], DavutpasaHour.columns]\n",
    ")\n",
    "\n",
    "# Your Required Information About Production Hour\n",
    "randomDataTable = pd.concat([BesiktasHour, DavutpasaHour], axis=1)\n",
    "print(randomDataTable)"
   ]
  },
  {
   "cell_type": "code",
   "execution_count": 32,
   "id": "3dcad74f",
   "metadata": {},
   "outputs": [],
   "source": [
    "Products = [\"T-Shirts\", \"Jeans\"]\n",
    "\n",
    "Centers = [\"Besiktas\", \"Davutpasa\"]\n",
    "\n",
    "Procesess = [\"Cutting\", \"Sewing\"]\n",
    "\n",
    "Profit = {\"T-Shirts\": 12, \"Jeans\": 16}\n",
    "\n",
    "\n",
    "Capacity = {\n",
    "    \"Besiktas\": {\"Cutting\": 180, \"Sewing\": 160},\n",
    "    \"Davutpasa\": {\"Cutting\": 70, \"Sewing\": 80},\n",
    "}\n",
    "\n",
    "besiktas_tshirts_cutting = randomDataTable.iloc[0, 0]\n",
    "besiktas_tshirts_sewing = randomDataTable.iloc[1, 0]\n",
    "besiktas_jeans_cutting = randomDataTable.iloc[0, 1]\n",
    "besiktas_jeans_sewing = randomDataTable.iloc[1, 1]\n",
    "davutpasa_tshirts_cutting = randomDataTable.iloc[0, 2]\n",
    "davutpasa_tshirts_sewing = randomDataTable.iloc[1, 2]\n",
    "davutpasa_jeans_cutting = randomDataTable.iloc[0, 3]\n",
    "davutpasa_jeans_sewing = randomDataTable.iloc[1, 3]\n",
    "\n",
    "TimeSpent = {\n",
    "    \"Besiktas\": [\n",
    "        {\"T-Shirts\": {\"Cutting\": besiktas_tshirts_cutting, \"Sewing\": besiktas_tshirts_sewing}},\n",
    "        {\"Jeans\": {\"Cutting\": besiktas_jeans_cutting, \"Sewing\": besiktas_jeans_sewing}},\n",
    "    ],\n",
    "    \"Davutpasa\": [\n",
    "        {\"T-Shirts\": {\"Cutting\": davutpasa_tshirts_cutting, \"Sewing\": davutpasa_tshirts_sewing}},\n",
    "        {\"Jeans\": {\"Cutting\": davutpasa_jeans_cutting, \"Sewing\": davutpasa_jeans_sewing}},\n",
    "    ],\n",
    "}\n",
    "\n",
    "RawMaterial = {\"T-Shirts\": 4, \"Jeans\": 4}"
   ]
  },
  {
   "cell_type": "markdown",
   "id": "d3f58593",
   "metadata": {},
   "source": [
    "### Creating The \"prob\" Variable To Contain The Problem Data"
   ]
  },
  {
   "cell_type": "code",
   "execution_count": 33,
   "id": "326f600d",
   "metadata": {},
   "outputs": [],
   "source": [
    "prob = LpProblem(\"Clothes_Production\", LpMaximize)"
   ]
  },
  {
   "cell_type": "markdown",
   "id": "5739c14b",
   "metadata": {},
   "source": [
    "### Defining Decision Variable"
   ]
  },
  {
   "cell_type": "code",
   "execution_count": 34,
   "id": "36283b41",
   "metadata": {},
   "outputs": [
    {
     "data": {
      "text/plain": [
       "{'T-Shirts': {'Besiktas': X_T_Shirts_Besiktas,\n",
       "  'Davutpasa': X_T_Shirts_Davutpasa},\n",
       " 'Jeans': {'Besiktas': X_Jeans_Besiktas, 'Davutpasa': X_Jeans_Davutpasa}}"
      ]
     },
     "metadata": {},
     "output_type": "display_data"
    }
   ],
   "source": [
    "X = LpVariable.dicts(\"X\", (Products, Centers), lowBound = 0, upBound = None, cat = const.LpInteger)\n",
    "display(X)"
   ]
  },
  {
   "cell_type": "markdown",
   "id": "41679ffd",
   "metadata": {},
   "source": [
    "### Defining Objective Function"
   ]
  },
  {
   "cell_type": "code",
   "execution_count": 35,
   "id": "ff848c48",
   "metadata": {},
   "outputs": [],
   "source": [
    "prob += lpSum(X[i][x]*Profit[i] for i in Products for x in Centers)"
   ]
  },
  {
   "cell_type": "markdown",
   "id": "cc6a1e36",
   "metadata": {},
   "source": [
    "### Defining Constraints"
   ]
  },
  {
   "cell_type": "code",
   "execution_count": 36,
   "id": "2225d629",
   "metadata": {},
   "outputs": [],
   "source": [
    "for x in Centers:\n",
    "    for s in Procesess:\n",
    "        prob += lpSum(item[t][s]*X[t][x] for item in TimeSpent[x] for t in item.keys() ) <= Capacity[x][s]"
   ]
  },
  {
   "cell_type": "code",
   "execution_count": 37,
   "id": "22276f72",
   "metadata": {},
   "outputs": [],
   "source": [
    "prob += lpSum(X[i][x]*RawMaterial[i] for i in Products for x in Centers) <= 120"
   ]
  },
  {
   "cell_type": "markdown",
   "id": "833af4a9",
   "metadata": {},
   "source": [
    "### Solving Problem"
   ]
  },
  {
   "cell_type": "code",
   "execution_count": 38,
   "id": "31a1ae84",
   "metadata": {},
   "outputs": [
    {
     "name": "stdout",
     "output_type": "stream",
     "text": [
      "Welcome to the CBC MILP Solver \n",
      "Version: 2.10.3 \n",
      "Build Date: Dec 15 2019 \n",
      "\n",
      "command line - /home/emirhan/.local/lib/python3.10/site-packages/pulp/solverdir/cbc/linux/64/cbc /tmp/c492c8b392b7410caf43112eedc1c6f2-pulp.mps max timeMode elapsed branch printingOptions all solution /tmp/c492c8b392b7410caf43112eedc1c6f2-pulp.sol (default strategy 1)\n",
      "At line 2 NAME          MODEL\n",
      "At line 3 ROWS\n",
      "At line 10 COLUMNS\n",
      "At line 35 RHS\n",
      "At line 41 BOUNDS\n",
      "At line 46 ENDATA\n",
      "Problem MODEL has 5 rows, 4 columns and 12 elements\n",
      "Coin0008I MODEL read with 0 errors\n",
      "Option for timeMode changed from cpu to elapsed\n",
      "Continuous objective value is 462.857 - 0.00 seconds\n",
      "Cgl0004I processed model has 4 rows, 4 columns (4 integer (0 of which binary)) and 10 elements\n",
      "Cutoff increment increased from 1e-05 to 3.9999\n",
      "Cbc0012I Integer solution of -432 found by DiveCoefficient after 0 iterations and 0 nodes (0.00 seconds)\n",
      "Cbc0038I Full problem 4 rows 4 columns, reduced to 3 rows 2 columns\n",
      "Cbc0012I Integer solution of -456 found by DiveCoefficient after 2 iterations and 0 nodes (0.01 seconds)\n",
      "Cbc0031I 2 added rows had average density of 3\n",
      "Cbc0013I At root node, 2 cuts changed objective from -459.2 to -456 in 2 passes\n",
      "Cbc0014I Cut generator 0 (Probing) - 0 row cuts average 0.0 elements, 0 column cuts (0 active)  in 0.000 seconds - new frequency is -100\n",
      "Cbc0014I Cut generator 1 (Gomory) - 3 row cuts average 3.3 elements, 0 column cuts (0 active)  in 0.000 seconds - new frequency is 1\n",
      "Cbc0014I Cut generator 2 (Knapsack) - 0 row cuts average 0.0 elements, 0 column cuts (0 active)  in 0.000 seconds - new frequency is -100\n",
      "Cbc0014I Cut generator 3 (Clique) - 0 row cuts average 0.0 elements, 0 column cuts (0 active)  in 0.000 seconds - new frequency is -100\n",
      "Cbc0014I Cut generator 4 (MixedIntegerRounding2) - 0 row cuts average 0.0 elements, 0 column cuts (0 active)  in 0.000 seconds - new frequency is -100\n",
      "Cbc0014I Cut generator 5 (FlowCover) - 0 row cuts average 0.0 elements, 0 column cuts (0 active)  in 0.000 seconds - new frequency is -100\n",
      "Cbc0014I Cut generator 6 (TwoMirCuts) - 2 row cuts average 2.0 elements, 0 column cuts (0 active)  in 0.000 seconds - new frequency is 1\n",
      "Cbc0014I Cut generator 7 (ZeroHalf) - 1 row cuts average 2.0 elements, 0 column cuts (0 active)  in 0.000 seconds - new frequency is -100\n",
      "Cbc0001I Search completed - best objective -456, took 2 iterations and 0 nodes (0.01 seconds)\n",
      "Cbc0035I Maximum depth 0, 0 variables fixed on reduced cost\n",
      "Cuts at root node changed objective from -459.2 to -456\n",
      "Probing was tried 2 times and created 0 cuts of which 0 were active after adding rounds of cuts (0.000 seconds)\n",
      "Gomory was tried 2 times and created 3 cuts of which 0 were active after adding rounds of cuts (0.000 seconds)\n",
      "Knapsack was tried 2 times and created 0 cuts of which 0 were active after adding rounds of cuts (0.000 seconds)\n",
      "Clique was tried 2 times and created 0 cuts of which 0 were active after adding rounds of cuts (0.000 seconds)\n",
      "MixedIntegerRounding2 was tried 2 times and created 0 cuts of which 0 were active after adding rounds of cuts (0.000 seconds)\n",
      "FlowCover was tried 2 times and created 0 cuts of which 0 were active after adding rounds of cuts (0.000 seconds)\n",
      "TwoMirCuts was tried 2 times and created 2 cuts of which 0 were active after adding rounds of cuts (0.000 seconds)\n",
      "ZeroHalf was tried 1 times and created 1 cuts of which 0 were active after adding rounds of cuts (0.000 seconds)\n",
      "\n",
      "Result - Optimal solution found\n",
      "\n",
      "Objective value:                456.00000000\n",
      "Enumerated nodes:               0\n",
      "Total iterations:               2\n",
      "Time (CPU seconds):             0.01\n",
      "Time (Wallclock seconds):       0.01\n",
      "\n",
      "Option for printingOptions changed from normal to all\n",
      "Total time (CPU seconds):       0.01   (Wallclock seconds):       0.01\n",
      "\n"
     ]
    },
    {
     "data": {
      "text/plain": [
       "1"
      ]
     },
     "execution_count": 38,
     "metadata": {},
     "output_type": "execute_result"
    }
   ],
   "source": [
    "prob.solve()"
   ]
  },
  {
   "cell_type": "markdown",
   "id": "7c269ad6",
   "metadata": {},
   "source": [
    "### Printing Problem Status"
   ]
  },
  {
   "cell_type": "code",
   "execution_count": 39,
   "id": "3ff62929",
   "metadata": {},
   "outputs": [
    {
     "name": "stdout",
     "output_type": "stream",
     "text": [
      "The Problem Is: Optimal\n"
     ]
    }
   ],
   "source": [
    "print(\"The Problem Is:\", LpStatus[prob.status])"
   ]
  },
  {
   "cell_type": "markdown",
   "id": "a5bd74b7",
   "metadata": {},
   "source": [
    "### d.a Production Quantities: i. Jeans in Beşiktaş and in Davutpaşa, ii. T-shirts in Beşiktaş and in Davutpaşa\n"
   ]
  },
  {
   "cell_type": "code",
   "execution_count": 40,
   "id": "2f205094",
   "metadata": {},
   "outputs": [
    {
     "name": "stdout",
     "output_type": "stream",
     "text": [
      "Jeans in Beşiktaş and Davutpaşa (Production Quantities):\n",
      "\n",
      "X_Jeans_Besiktas = 16.0\n",
      "X_Jeans_Davutpasa = 8.0\n",
      "X_T_Shirts_Besiktas = 6.0\n",
      "X_T_Shirts_Davutpasa = 0.0\n"
     ]
    }
   ],
   "source": [
    "print(\"Jeans in Beşiktaş and Davutpaşa (Production Quantities):\\n\")\n",
    "for v in prob.variables():\n",
    "    print(v.name, \"=\", v.varValue)"
   ]
  },
  {
   "cell_type": "markdown",
   "id": "c92f070c",
   "metadata": {},
   "source": [
    "#### d.b Total amount used Cutting in Beşiktaş and in Davutpaşa, Sewing in Beşiktaş and in Davutpaşa, Cloths in Beşiktaş and in Davutpaşa\n"
   ]
  },
  {
   "cell_type": "code",
   "execution_count": 41,
   "id": "c2f177e7",
   "metadata": {},
   "outputs": [
    {
     "name": "stdout",
     "output_type": "stream",
     "text": [
      "Cutting in Beşiktaş and in Davutpaşa,\n",
      "Sewing in Beşiktaş and in Davutpaşa,\n",
      "Cloths in Beşiktaş and in Davutpaşa\n",
      "Production Quantities:\n",
      "\n",
      "Cutting T-Shirts in Besiktas: 6.0\n",
      "Cutting Jeans in Besiktas: 16.0\n",
      "Sewing T-Shirts in Besiktas: 6.0\n",
      "Sewing Jeans in Besiktas: 16.0\n",
      "Cutting T-Shirts in Davutpasa: 0.0\n",
      "Cutting Jeans in Davutpasa: 8.0\n",
      "Sewing T-Shirts in Davutpasa: 0.0\n",
      "Sewing Jeans in Davutpasa: 8.0\n"
     ]
    }
   ],
   "source": [
    "print(\"Cutting in Beşiktaş and in Davutpaşa,\\nSewing in Beşiktaş and in Davutpaşa,\\nCloths in Beşiktaş and in Davutpaşa\")\n",
    "\n",
    "print(\"Production Quantities:\\n\")\n",
    "for x in Centers:\n",
    "    for s in Procesess:\n",
    "        for i in Products:\n",
    "            print(f\"{s} {i} in {x}: {X[i][x].varValue}\")"
   ]
  },
  {
   "cell_type": "markdown",
   "id": "41944f09",
   "metadata": {},
   "source": [
    "### d.c Total profit. \n"
   ]
  },
  {
   "cell_type": "code",
   "execution_count": 42,
   "id": "6eaa2b17",
   "metadata": {},
   "outputs": [
    {
     "name": "stdout",
     "output_type": "stream",
     "text": [
      "The objective Function Value (Total Profit) is:  456.0\n"
     ]
    }
   ],
   "source": [
    "print(\"The objective Function Value (Total Profit) is: \", value(prob.objective))"
   ]
  },
  {
   "cell_type": "code",
   "execution_count": 43,
   "id": "9c6cab13",
   "metadata": {},
   "outputs": [
    {
     "name": "stdout",
     "output_type": "stream",
     "text": [
      "Decision Variables\n",
      "[X_Jeans_Besiktas, X_Jeans_Davutpasa, X_T_Shirts_Besiktas, X_T_Shirts_Davutpasa]\n",
      "Clothes_Production:\n",
      "MAXIMIZE\n",
      "16*X_Jeans_Besiktas + 16*X_Jeans_Davutpasa + 12*X_T_Shirts_Besiktas + 12*X_T_Shirts_Davutpasa + 0\n",
      "SUBJECT TO\n",
      "_C1: X_Jeans_Besiktas + 9 X_T_Shirts_Besiktas <= 180\n",
      "\n",
      "_C2: 9 X_Jeans_Besiktas + 2 X_T_Shirts_Besiktas <= 160\n",
      "\n",
      "_C3: 2 X_Jeans_Davutpasa + X_T_Shirts_Davutpasa <= 70\n",
      "\n",
      "_C4: 9 X_Jeans_Davutpasa + 10 X_T_Shirts_Davutpasa <= 80\n",
      "\n",
      "_C5: 4 X_Jeans_Besiktas + 4 X_Jeans_Davutpasa + 4 X_T_Shirts_Besiktas\n",
      " + 4 X_T_Shirts_Davutpasa <= 120\n",
      "\n",
      "VARIABLES\n",
      "0 <= X_Jeans_Besiktas Integer\n",
      "0 <= X_Jeans_Davutpasa Integer\n",
      "0 <= X_T_Shirts_Besiktas Integer\n",
      "0 <= X_T_Shirts_Davutpasa Integer\n",
      "\n"
     ]
    }
   ],
   "source": [
    "print(\"Decision Variables\")\n",
    "print(prob.variables())\n",
    "print(prob)"
   ]
  },
  {
   "cell_type": "code",
   "execution_count": null,
   "id": "1118169f",
   "metadata": {},
   "outputs": [],
   "source": []
  }
 ],
 "metadata": {
  "kernelspec": {
   "display_name": "Python 3 (ipykernel)",
   "language": "python",
   "name": "python3"
  },
  "language_info": {
   "codemirror_mode": {
    "name": "ipython",
    "version": 3
   },
   "file_extension": ".py",
   "mimetype": "text/x-python",
   "name": "python",
   "nbconvert_exporter": "python",
   "pygments_lexer": "ipython3",
   "version": "3.10.12"
  }
 },
 "nbformat": 4,
 "nbformat_minor": 5
}
